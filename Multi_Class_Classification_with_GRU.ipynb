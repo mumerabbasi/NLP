{
  "cells": [
    {
      "cell_type": "markdown",
      "metadata": {
        "id": "view-in-github",
        "colab_type": "text"
      },
      "source": [
        "<a href=\"https://colab.research.google.com/github/mumerabbasi/NLP/blob/main/Multi_Class_Classification_with_GRU.ipynb\" target=\"_parent\"><img src=\"https://colab.research.google.com/assets/colab-badge.svg\" alt=\"Open In Colab\"/></a>"
      ]
    },
    {
      "cell_type": "code",
      "execution_count": 18,
      "metadata": {
        "id": "K3j0stIVAWC-"
      },
      "outputs": [],
      "source": [
        "# Importing libraries\n",
        "import numpy as np\n",
        "import pandas as pd\n",
        "import tensorflow as tf\n",
        "\n",
        "# Importing keras from tensor flow to use Google Colab's TPU (To accelerate training)\n",
        "from sklearn.model_selection import train_test_split\n",
        "from tensorflow.keras.models import Sequential\n",
        "from tensorflow.keras.layers import GRU, Embedding, SpatialDropout1D, Dense, Bidirectional\n",
        "from tensorflow.keras.callbacks import EarlyStopping\n",
        "import matplotlib.pyplot as plt\n",
        "\n",
        "# Importing libraries required for cleaning text\n",
        "import nltk\n",
        "from nltk.corpus import stopwords\n",
        "from nltk.stem.snowball import SnowballStemmer\n",
        "import re\n",
        "import sys\n",
        "import warnings\n",
        "\n",
        "# Importing for tokenizing our reviews\n",
        "from keras.preprocessing.text import Tokenizer\n",
        "\n",
        "# Importing for Padding our text to make all reviews have equal length\n",
        "from keras.preprocessing.sequence import pad_sequences"
      ]
    },
    {
      "cell_type": "code",
      "execution_count": 2,
      "metadata": {
        "colab": {
          "base_uri": "https://localhost:8080/"
        },
        "id": "LZ6J4AwVUJ5T",
        "outputId": "20e50f03-5fe9-48cf-d30d-c0701cfe4ad1"
      },
      "outputs": [
        {
          "output_type": "stream",
          "name": "stdout",
          "text": [
            "Mounted at /content/gdrive\n"
          ]
        }
      ],
      "source": [
        "# To import data file from your google drive.\n",
        "from google.colab import drive\n",
        "drive.mount('/content/gdrive')\n",
        "path = 'gdrive/My Drive/Colab Notebooks/Multi Class Review Classification/YELP_Reviews_Data.csv'  # gdrive/My Drive/Folder Name/File Name.csv"
      ]
    },
    {
      "cell_type": "code",
      "execution_count": 3,
      "metadata": {
        "colab": {
          "base_uri": "https://localhost:8080/",
          "height": 337
        },
        "id": "lT1NIss-UK9T",
        "outputId": "d1f8e9ee-72d7-4cb5-db75-f283bb584b78"
      },
      "outputs": [
        {
          "output_type": "execute_result",
          "data": {
            "text/html": [
              "\n",
              "  <div id=\"df-e7ce4f43-bd84-424b-a5a9-063e3f7c02b0\">\n",
              "    <div class=\"colab-df-container\">\n",
              "      <div>\n",
              "<style scoped>\n",
              "    .dataframe tbody tr th:only-of-type {\n",
              "        vertical-align: middle;\n",
              "    }\n",
              "\n",
              "    .dataframe tbody tr th {\n",
              "        vertical-align: top;\n",
              "    }\n",
              "\n",
              "    .dataframe thead th {\n",
              "        text-align: right;\n",
              "    }\n",
              "</style>\n",
              "<table border=\"1\" class=\"dataframe\">\n",
              "  <thead>\n",
              "    <tr style=\"text-align: right;\">\n",
              "      <th></th>\n",
              "      <th>review_id</th>\n",
              "      <th>user_id</th>\n",
              "      <th>business_id</th>\n",
              "      <th>stars</th>\n",
              "      <th>useful</th>\n",
              "      <th>funny</th>\n",
              "      <th>cool</th>\n",
              "      <th>text</th>\n",
              "      <th>date</th>\n",
              "      <th>stars_str</th>\n",
              "      <th>txt_len</th>\n",
              "      <th>sent_label</th>\n",
              "      <th>sent_score</th>\n",
              "    </tr>\n",
              "  </thead>\n",
              "  <tbody>\n",
              "    <tr>\n",
              "      <th>0</th>\n",
              "      <td>i1buEuYYo9CvosniQ64DJg</td>\n",
              "      <td>K0HrAbJrNfceo3tk1VOWiw</td>\n",
              "      <td>yn76xXVpL6Ejt47HqJ0YiQ</td>\n",
              "      <td>1</td>\n",
              "      <td>0</td>\n",
              "      <td>1</td>\n",
              "      <td>0</td>\n",
              "      <td>I see the owner finally decided to reply to so...</td>\n",
              "      <td>2019-05-23 21:04:21</td>\n",
              "      <td>1</td>\n",
              "      <td>2958</td>\n",
              "      <td>-1</td>\n",
              "      <td>0.999629</td>\n",
              "    </tr>\n",
              "    <tr>\n",
              "      <th>1</th>\n",
              "      <td>oyqPnwGQaOL9-n8Z1YmcDA</td>\n",
              "      <td>fMX9IsFT5awrkNaZJnEv3A</td>\n",
              "      <td>n85oc0lNQhEDomqhljmZqg</td>\n",
              "      <td>1</td>\n",
              "      <td>1</td>\n",
              "      <td>0</td>\n",
              "      <td>0</td>\n",
              "      <td>Just gross. I had the 'crispy' chicken sandwic...</td>\n",
              "      <td>2017-11-19 21:28:29</td>\n",
              "      <td>1</td>\n",
              "      <td>352</td>\n",
              "      <td>-1</td>\n",
              "      <td>0.999609</td>\n",
              "    </tr>\n",
              "    <tr>\n",
              "      <th>2</th>\n",
              "      <td>0Bfai921X7GUt4U2xLcYSQ</td>\n",
              "      <td>jMqD6Sl_3Msi53aVA0KTRg</td>\n",
              "      <td>AvXqLbcGCxdIEF_qZTY0Kw</td>\n",
              "      <td>1</td>\n",
              "      <td>1</td>\n",
              "      <td>0</td>\n",
              "      <td>0</td>\n",
              "      <td>I saw this restaurant on TV. So it was on my l...</td>\n",
              "      <td>2014-07-15 14:40:29</td>\n",
              "      <td>1</td>\n",
              "      <td>640</td>\n",
              "      <td>-1</td>\n",
              "      <td>0.999689</td>\n",
              "    </tr>\n",
              "    <tr>\n",
              "      <th>3</th>\n",
              "      <td>AaZwkwIMO0vw-sQvp1S2IA</td>\n",
              "      <td>0FZW665jtUeVa_Nej6h_gA</td>\n",
              "      <td>tMnK-Pip_N_XiGo4wPjegQ</td>\n",
              "      <td>1</td>\n",
              "      <td>2</td>\n",
              "      <td>0</td>\n",
              "      <td>0</td>\n",
              "      <td>Ordered $45 worth of food through Grubhub- two...</td>\n",
              "      <td>2016-03-01 00:41:09</td>\n",
              "      <td>1</td>\n",
              "      <td>683</td>\n",
              "      <td>-1</td>\n",
              "      <td>0.999553</td>\n",
              "    </tr>\n",
              "    <tr>\n",
              "      <th>4</th>\n",
              "      <td>0ZuDXldIHDj-o-hew4IjCQ</td>\n",
              "      <td>Bn6lNYr5fSgl1WmeNenGvA</td>\n",
              "      <td>JX-7i6KGbqejH1JBBzv5JQ</td>\n",
              "      <td>1</td>\n",
              "      <td>1</td>\n",
              "      <td>0</td>\n",
              "      <td>0</td>\n",
              "      <td>My girlfriend and went to the AMC Loews theate...</td>\n",
              "      <td>2014-10-05 13:21:44</td>\n",
              "      <td>1</td>\n",
              "      <td>960</td>\n",
              "      <td>-1</td>\n",
              "      <td>0.999554</td>\n",
              "    </tr>\n",
              "  </tbody>\n",
              "</table>\n",
              "</div>\n",
              "      <button class=\"colab-df-convert\" onclick=\"convertToInteractive('df-e7ce4f43-bd84-424b-a5a9-063e3f7c02b0')\"\n",
              "              title=\"Convert this dataframe to an interactive table.\"\n",
              "              style=\"display:none;\">\n",
              "        \n",
              "  <svg xmlns=\"http://www.w3.org/2000/svg\" height=\"24px\"viewBox=\"0 0 24 24\"\n",
              "       width=\"24px\">\n",
              "    <path d=\"M0 0h24v24H0V0z\" fill=\"none\"/>\n",
              "    <path d=\"M18.56 5.44l.94 2.06.94-2.06 2.06-.94-2.06-.94-.94-2.06-.94 2.06-2.06.94zm-11 1L8.5 8.5l.94-2.06 2.06-.94-2.06-.94L8.5 2.5l-.94 2.06-2.06.94zm10 10l.94 2.06.94-2.06 2.06-.94-2.06-.94-.94-2.06-.94 2.06-2.06.94z\"/><path d=\"M17.41 7.96l-1.37-1.37c-.4-.4-.92-.59-1.43-.59-.52 0-1.04.2-1.43.59L10.3 9.45l-7.72 7.72c-.78.78-.78 2.05 0 2.83L4 21.41c.39.39.9.59 1.41.59.51 0 1.02-.2 1.41-.59l7.78-7.78 2.81-2.81c.8-.78.8-2.07 0-2.86zM5.41 20L4 18.59l7.72-7.72 1.47 1.35L5.41 20z\"/>\n",
              "  </svg>\n",
              "      </button>\n",
              "      \n",
              "  <style>\n",
              "    .colab-df-container {\n",
              "      display:flex;\n",
              "      flex-wrap:wrap;\n",
              "      gap: 12px;\n",
              "    }\n",
              "\n",
              "    .colab-df-convert {\n",
              "      background-color: #E8F0FE;\n",
              "      border: none;\n",
              "      border-radius: 50%;\n",
              "      cursor: pointer;\n",
              "      display: none;\n",
              "      fill: #1967D2;\n",
              "      height: 32px;\n",
              "      padding: 0 0 0 0;\n",
              "      width: 32px;\n",
              "    }\n",
              "\n",
              "    .colab-df-convert:hover {\n",
              "      background-color: #E2EBFA;\n",
              "      box-shadow: 0px 1px 2px rgba(60, 64, 67, 0.3), 0px 1px 3px 1px rgba(60, 64, 67, 0.15);\n",
              "      fill: #174EA6;\n",
              "    }\n",
              "\n",
              "    [theme=dark] .colab-df-convert {\n",
              "      background-color: #3B4455;\n",
              "      fill: #D2E3FC;\n",
              "    }\n",
              "\n",
              "    [theme=dark] .colab-df-convert:hover {\n",
              "      background-color: #434B5C;\n",
              "      box-shadow: 0px 1px 3px 1px rgba(0, 0, 0, 0.15);\n",
              "      filter: drop-shadow(0px 1px 2px rgba(0, 0, 0, 0.3));\n",
              "      fill: #FFFFFF;\n",
              "    }\n",
              "  </style>\n",
              "\n",
              "      <script>\n",
              "        const buttonEl =\n",
              "          document.querySelector('#df-e7ce4f43-bd84-424b-a5a9-063e3f7c02b0 button.colab-df-convert');\n",
              "        buttonEl.style.display =\n",
              "          google.colab.kernel.accessAllowed ? 'block' : 'none';\n",
              "\n",
              "        async function convertToInteractive(key) {\n",
              "          const element = document.querySelector('#df-e7ce4f43-bd84-424b-a5a9-063e3f7c02b0');\n",
              "          const dataTable =\n",
              "            await google.colab.kernel.invokeFunction('convertToInteractive',\n",
              "                                                     [key], {});\n",
              "          if (!dataTable) return;\n",
              "\n",
              "          const docLinkHtml = 'Like what you see? Visit the ' +\n",
              "            '<a target=\"_blank\" href=https://colab.research.google.com/notebooks/data_table.ipynb>data table notebook</a>'\n",
              "            + ' to learn more about interactive tables.';\n",
              "          element.innerHTML = '';\n",
              "          dataTable['output_type'] = 'display_data';\n",
              "          await google.colab.output.renderOutput(dataTable, element);\n",
              "          const docLink = document.createElement('div');\n",
              "          docLink.innerHTML = docLinkHtml;\n",
              "          element.appendChild(docLink);\n",
              "        }\n",
              "      </script>\n",
              "    </div>\n",
              "  </div>\n",
              "  "
            ],
            "text/plain": [
              "                review_id                 user_id  ... sent_label  sent_score\n",
              "0  i1buEuYYo9CvosniQ64DJg  K0HrAbJrNfceo3tk1VOWiw  ...         -1    0.999629\n",
              "1  oyqPnwGQaOL9-n8Z1YmcDA  fMX9IsFT5awrkNaZJnEv3A  ...         -1    0.999609\n",
              "2  0Bfai921X7GUt4U2xLcYSQ  jMqD6Sl_3Msi53aVA0KTRg  ...         -1    0.999689\n",
              "3  AaZwkwIMO0vw-sQvp1S2IA  0FZW665jtUeVa_Nej6h_gA  ...         -1    0.999553\n",
              "4  0ZuDXldIHDj-o-hew4IjCQ  Bn6lNYr5fSgl1WmeNenGvA  ...         -1    0.999554\n",
              "\n",
              "[5 rows x 13 columns]"
            ]
          },
          "metadata": {},
          "execution_count": 3
        }
      ],
      "source": [
        "# Reading data from file into a Pandas DataFrame\n",
        "df =  pd.read_csv(path, sep='<')\n",
        "df.head()"
      ]
    },
    {
      "cell_type": "code",
      "execution_count": 4,
      "metadata": {
        "colab": {
          "base_uri": "https://localhost:8080/",
          "height": 394
        },
        "id": "dSl8_klWULM0",
        "outputId": "ab4d022b-040a-49a2-ef69-17f39b6b377f"
      },
      "outputs": [
        {
          "output_type": "execute_result",
          "data": {
            "text/html": [
              "\n",
              "  <div id=\"df-a12e34bf-c5db-4926-8a4c-3facf5bc4f91\">\n",
              "    <div class=\"colab-df-container\">\n",
              "      <div>\n",
              "<style scoped>\n",
              "    .dataframe tbody tr th:only-of-type {\n",
              "        vertical-align: middle;\n",
              "    }\n",
              "\n",
              "    .dataframe tbody tr th {\n",
              "        vertical-align: top;\n",
              "    }\n",
              "\n",
              "    .dataframe thead th {\n",
              "        text-align: right;\n",
              "    }\n",
              "</style>\n",
              "<table border=\"1\" class=\"dataframe\">\n",
              "  <thead>\n",
              "    <tr style=\"text-align: right;\">\n",
              "      <th></th>\n",
              "      <th>text</th>\n",
              "      <th>stars</th>\n",
              "    </tr>\n",
              "  </thead>\n",
              "  <tbody>\n",
              "    <tr>\n",
              "      <th>count</th>\n",
              "      <td>250000</td>\n",
              "      <td>250000.000000</td>\n",
              "    </tr>\n",
              "    <tr>\n",
              "      <th>unique</th>\n",
              "      <td>249931</td>\n",
              "      <td>NaN</td>\n",
              "    </tr>\n",
              "    <tr>\n",
              "      <th>top</th>\n",
              "      <td>The pharmacists are too strict on picking up c...</td>\n",
              "      <td>NaN</td>\n",
              "    </tr>\n",
              "    <tr>\n",
              "      <th>freq</th>\n",
              "      <td>2</td>\n",
              "      <td>NaN</td>\n",
              "    </tr>\n",
              "    <tr>\n",
              "      <th>mean</th>\n",
              "      <td>NaN</td>\n",
              "      <td>3.000000</td>\n",
              "    </tr>\n",
              "    <tr>\n",
              "      <th>std</th>\n",
              "      <td>NaN</td>\n",
              "      <td>1.414216</td>\n",
              "    </tr>\n",
              "    <tr>\n",
              "      <th>min</th>\n",
              "      <td>NaN</td>\n",
              "      <td>1.000000</td>\n",
              "    </tr>\n",
              "    <tr>\n",
              "      <th>25%</th>\n",
              "      <td>NaN</td>\n",
              "      <td>2.000000</td>\n",
              "    </tr>\n",
              "    <tr>\n",
              "      <th>50%</th>\n",
              "      <td>NaN</td>\n",
              "      <td>3.000000</td>\n",
              "    </tr>\n",
              "    <tr>\n",
              "      <th>75%</th>\n",
              "      <td>NaN</td>\n",
              "      <td>4.000000</td>\n",
              "    </tr>\n",
              "    <tr>\n",
              "      <th>max</th>\n",
              "      <td>NaN</td>\n",
              "      <td>5.000000</td>\n",
              "    </tr>\n",
              "  </tbody>\n",
              "</table>\n",
              "</div>\n",
              "      <button class=\"colab-df-convert\" onclick=\"convertToInteractive('df-a12e34bf-c5db-4926-8a4c-3facf5bc4f91')\"\n",
              "              title=\"Convert this dataframe to an interactive table.\"\n",
              "              style=\"display:none;\">\n",
              "        \n",
              "  <svg xmlns=\"http://www.w3.org/2000/svg\" height=\"24px\"viewBox=\"0 0 24 24\"\n",
              "       width=\"24px\">\n",
              "    <path d=\"M0 0h24v24H0V0z\" fill=\"none\"/>\n",
              "    <path d=\"M18.56 5.44l.94 2.06.94-2.06 2.06-.94-2.06-.94-.94-2.06-.94 2.06-2.06.94zm-11 1L8.5 8.5l.94-2.06 2.06-.94-2.06-.94L8.5 2.5l-.94 2.06-2.06.94zm10 10l.94 2.06.94-2.06 2.06-.94-2.06-.94-.94-2.06-.94 2.06-2.06.94z\"/><path d=\"M17.41 7.96l-1.37-1.37c-.4-.4-.92-.59-1.43-.59-.52 0-1.04.2-1.43.59L10.3 9.45l-7.72 7.72c-.78.78-.78 2.05 0 2.83L4 21.41c.39.39.9.59 1.41.59.51 0 1.02-.2 1.41-.59l7.78-7.78 2.81-2.81c.8-.78.8-2.07 0-2.86zM5.41 20L4 18.59l7.72-7.72 1.47 1.35L5.41 20z\"/>\n",
              "  </svg>\n",
              "      </button>\n",
              "      \n",
              "  <style>\n",
              "    .colab-df-container {\n",
              "      display:flex;\n",
              "      flex-wrap:wrap;\n",
              "      gap: 12px;\n",
              "    }\n",
              "\n",
              "    .colab-df-convert {\n",
              "      background-color: #E8F0FE;\n",
              "      border: none;\n",
              "      border-radius: 50%;\n",
              "      cursor: pointer;\n",
              "      display: none;\n",
              "      fill: #1967D2;\n",
              "      height: 32px;\n",
              "      padding: 0 0 0 0;\n",
              "      width: 32px;\n",
              "    }\n",
              "\n",
              "    .colab-df-convert:hover {\n",
              "      background-color: #E2EBFA;\n",
              "      box-shadow: 0px 1px 2px rgba(60, 64, 67, 0.3), 0px 1px 3px 1px rgba(60, 64, 67, 0.15);\n",
              "      fill: #174EA6;\n",
              "    }\n",
              "\n",
              "    [theme=dark] .colab-df-convert {\n",
              "      background-color: #3B4455;\n",
              "      fill: #D2E3FC;\n",
              "    }\n",
              "\n",
              "    [theme=dark] .colab-df-convert:hover {\n",
              "      background-color: #434B5C;\n",
              "      box-shadow: 0px 1px 3px 1px rgba(0, 0, 0, 0.15);\n",
              "      filter: drop-shadow(0px 1px 2px rgba(0, 0, 0, 0.3));\n",
              "      fill: #FFFFFF;\n",
              "    }\n",
              "  </style>\n",
              "\n",
              "      <script>\n",
              "        const buttonEl =\n",
              "          document.querySelector('#df-a12e34bf-c5db-4926-8a4c-3facf5bc4f91 button.colab-df-convert');\n",
              "        buttonEl.style.display =\n",
              "          google.colab.kernel.accessAllowed ? 'block' : 'none';\n",
              "\n",
              "        async function convertToInteractive(key) {\n",
              "          const element = document.querySelector('#df-a12e34bf-c5db-4926-8a4c-3facf5bc4f91');\n",
              "          const dataTable =\n",
              "            await google.colab.kernel.invokeFunction('convertToInteractive',\n",
              "                                                     [key], {});\n",
              "          if (!dataTable) return;\n",
              "\n",
              "          const docLinkHtml = 'Like what you see? Visit the ' +\n",
              "            '<a target=\"_blank\" href=https://colab.research.google.com/notebooks/data_table.ipynb>data table notebook</a>'\n",
              "            + ' to learn more about interactive tables.';\n",
              "          element.innerHTML = '';\n",
              "          dataTable['output_type'] = 'display_data';\n",
              "          await google.colab.output.renderOutput(dataTable, element);\n",
              "          const docLink = document.createElement('div');\n",
              "          docLink.innerHTML = docLinkHtml;\n",
              "          element.appendChild(docLink);\n",
              "        }\n",
              "      </script>\n",
              "    </div>\n",
              "  </div>\n",
              "  "
            ],
            "text/plain": [
              "                                                     text          stars\n",
              "count                                              250000  250000.000000\n",
              "unique                                             249931            NaN\n",
              "top     The pharmacists are too strict on picking up c...            NaN\n",
              "freq                                                    2            NaN\n",
              "mean                                                  NaN       3.000000\n",
              "std                                                   NaN       1.414216\n",
              "min                                                   NaN       1.000000\n",
              "25%                                                   NaN       2.000000\n",
              "50%                                                   NaN       3.000000\n",
              "75%                                                   NaN       4.000000\n",
              "max                                                   NaN       5.000000"
            ]
          },
          "metadata": {},
          "execution_count": 4
        }
      ],
      "source": [
        "# Dropping unecessary columns.\n",
        "df = df[['text', 'stars']]\n",
        "df.describe(include = 'all')"
      ]
    },
    {
      "cell_type": "code",
      "execution_count": 5,
      "metadata": {
        "colab": {
          "base_uri": "https://localhost:8080/",
          "height": 206
        },
        "id": "2pAf-gK8pT-R",
        "outputId": "d0985b00-4b20-434a-ded9-ecf501a6293d"
      },
      "outputs": [
        {
          "output_type": "execute_result",
          "data": {
            "text/html": [
              "\n",
              "  <div id=\"df-d9547c9e-0bc2-4a2e-b2e3-ccbdc66a0448\">\n",
              "    <div class=\"colab-df-container\">\n",
              "      <div>\n",
              "<style scoped>\n",
              "    .dataframe tbody tr th:only-of-type {\n",
              "        vertical-align: middle;\n",
              "    }\n",
              "\n",
              "    .dataframe tbody tr th {\n",
              "        vertical-align: top;\n",
              "    }\n",
              "\n",
              "    .dataframe thead th {\n",
              "        text-align: right;\n",
              "    }\n",
              "</style>\n",
              "<table border=\"1\" class=\"dataframe\">\n",
              "  <thead>\n",
              "    <tr style=\"text-align: right;\">\n",
              "      <th></th>\n",
              "      <th>text</th>\n",
              "      <th>stars</th>\n",
              "    </tr>\n",
              "  </thead>\n",
              "  <tbody>\n",
              "    <tr>\n",
              "      <th>0</th>\n",
              "      <td>i see the owner final decid to repli to someon...</td>\n",
              "      <td>1</td>\n",
              "    </tr>\n",
              "    <tr>\n",
              "      <th>1</th>\n",
              "      <td>just gross i had the crispi chicken sandwich i...</td>\n",
              "      <td>1</td>\n",
              "    </tr>\n",
              "    <tr>\n",
              "      <th>2</th>\n",
              "      <td>i saw this restaur on tv so it was on my list ...</td>\n",
              "      <td>1</td>\n",
              "    </tr>\n",
              "    <tr>\n",
              "      <th>3</th>\n",
              "      <td>order worth of food through grubhub two dinner...</td>\n",
              "      <td>1</td>\n",
              "    </tr>\n",
              "    <tr>\n",
              "      <th>4</th>\n",
              "      <td>my girlfriend and went to the amc loew theater...</td>\n",
              "      <td>1</td>\n",
              "    </tr>\n",
              "  </tbody>\n",
              "</table>\n",
              "</div>\n",
              "      <button class=\"colab-df-convert\" onclick=\"convertToInteractive('df-d9547c9e-0bc2-4a2e-b2e3-ccbdc66a0448')\"\n",
              "              title=\"Convert this dataframe to an interactive table.\"\n",
              "              style=\"display:none;\">\n",
              "        \n",
              "  <svg xmlns=\"http://www.w3.org/2000/svg\" height=\"24px\"viewBox=\"0 0 24 24\"\n",
              "       width=\"24px\">\n",
              "    <path d=\"M0 0h24v24H0V0z\" fill=\"none\"/>\n",
              "    <path d=\"M18.56 5.44l.94 2.06.94-2.06 2.06-.94-2.06-.94-.94-2.06-.94 2.06-2.06.94zm-11 1L8.5 8.5l.94-2.06 2.06-.94-2.06-.94L8.5 2.5l-.94 2.06-2.06.94zm10 10l.94 2.06.94-2.06 2.06-.94-2.06-.94-.94-2.06-.94 2.06-2.06.94z\"/><path d=\"M17.41 7.96l-1.37-1.37c-.4-.4-.92-.59-1.43-.59-.52 0-1.04.2-1.43.59L10.3 9.45l-7.72 7.72c-.78.78-.78 2.05 0 2.83L4 21.41c.39.39.9.59 1.41.59.51 0 1.02-.2 1.41-.59l7.78-7.78 2.81-2.81c.8-.78.8-2.07 0-2.86zM5.41 20L4 18.59l7.72-7.72 1.47 1.35L5.41 20z\"/>\n",
              "  </svg>\n",
              "      </button>\n",
              "      \n",
              "  <style>\n",
              "    .colab-df-container {\n",
              "      display:flex;\n",
              "      flex-wrap:wrap;\n",
              "      gap: 12px;\n",
              "    }\n",
              "\n",
              "    .colab-df-convert {\n",
              "      background-color: #E8F0FE;\n",
              "      border: none;\n",
              "      border-radius: 50%;\n",
              "      cursor: pointer;\n",
              "      display: none;\n",
              "      fill: #1967D2;\n",
              "      height: 32px;\n",
              "      padding: 0 0 0 0;\n",
              "      width: 32px;\n",
              "    }\n",
              "\n",
              "    .colab-df-convert:hover {\n",
              "      background-color: #E2EBFA;\n",
              "      box-shadow: 0px 1px 2px rgba(60, 64, 67, 0.3), 0px 1px 3px 1px rgba(60, 64, 67, 0.15);\n",
              "      fill: #174EA6;\n",
              "    }\n",
              "\n",
              "    [theme=dark] .colab-df-convert {\n",
              "      background-color: #3B4455;\n",
              "      fill: #D2E3FC;\n",
              "    }\n",
              "\n",
              "    [theme=dark] .colab-df-convert:hover {\n",
              "      background-color: #434B5C;\n",
              "      box-shadow: 0px 1px 3px 1px rgba(0, 0, 0, 0.15);\n",
              "      filter: drop-shadow(0px 1px 2px rgba(0, 0, 0, 0.3));\n",
              "      fill: #FFFFFF;\n",
              "    }\n",
              "  </style>\n",
              "\n",
              "      <script>\n",
              "        const buttonEl =\n",
              "          document.querySelector('#df-d9547c9e-0bc2-4a2e-b2e3-ccbdc66a0448 button.colab-df-convert');\n",
              "        buttonEl.style.display =\n",
              "          google.colab.kernel.accessAllowed ? 'block' : 'none';\n",
              "\n",
              "        async function convertToInteractive(key) {\n",
              "          const element = document.querySelector('#df-d9547c9e-0bc2-4a2e-b2e3-ccbdc66a0448');\n",
              "          const dataTable =\n",
              "            await google.colab.kernel.invokeFunction('convertToInteractive',\n",
              "                                                     [key], {});\n",
              "          if (!dataTable) return;\n",
              "\n",
              "          const docLinkHtml = 'Like what you see? Visit the ' +\n",
              "            '<a target=\"_blank\" href=https://colab.research.google.com/notebooks/data_table.ipynb>data table notebook</a>'\n",
              "            + ' to learn more about interactive tables.';\n",
              "          element.innerHTML = '';\n",
              "          dataTable['output_type'] = 'display_data';\n",
              "          await google.colab.output.renderOutput(dataTable, element);\n",
              "          const docLink = document.createElement('div');\n",
              "          docLink.innerHTML = docLinkHtml;\n",
              "          element.appendChild(docLink);\n",
              "        }\n",
              "      </script>\n",
              "    </div>\n",
              "  </div>\n",
              "  "
            ],
            "text/plain": [
              "                                                text  stars\n",
              "0  i see the owner final decid to repli to someon...      1\n",
              "1  just gross i had the crispi chicken sandwich i...      1\n",
              "2  i saw this restaur on tv so it was on my list ...      1\n",
              "3  order worth of food through grubhub two dinner...      1\n",
              "4  my girlfriend and went to the amc loew theater...      1"
            ]
          },
          "metadata": {},
          "execution_count": 5
        }
      ],
      "source": [
        "if not sys.warnoptions:\n",
        "    warnings.simplefilter(\"ignore\")\n",
        "\n",
        "# Function for cleaning HTML\n",
        "def clean_Html(sentence):\n",
        "    cleanr = re.compile('<.*?>')\n",
        "    cleantext = re.sub(cleanr, ' ', str(sentence))\n",
        "    return cleantext\n",
        "\n",
        "# Function for cleaning Punctuation/Special Characters\n",
        "def clean_Punc(sentence): \n",
        "    cleaned = re.sub(r'[?|!|\\'|\"|#]',r'',sentence)\n",
        "    cleaned = re.sub(r'[.|,|)|(|\\|/]',r' ',cleaned)\n",
        "    cleaned = cleaned.strip()\n",
        "    cleaned = cleaned.replace(\"\\n\",\" \")\n",
        "    return cleaned\n",
        "\n",
        "# Function for cleaning Uppercase letters\n",
        "def keep_Alpha(sentence):\n",
        "    alpha_sent = \"\"\n",
        "    for word in sentence.split():\n",
        "        alpha_word = re.sub('[^a-z A-Z]+', ' ', word)\n",
        "        alpha_sent += alpha_word\n",
        "        alpha_sent += \" \"\n",
        "    alpha_sent = alpha_sent.strip()\n",
        "    return alpha_sent\n",
        "\n",
        "# Function for stemming\n",
        "stemmer = SnowballStemmer(\"english\")\n",
        "def stemming(sentence):\n",
        "    stemSentence = \"\"\n",
        "    for word in sentence.split():\n",
        "        stem = stemmer.stem(word)\n",
        "        stemSentence += stem\n",
        "        stemSentence += \" \"\n",
        "    stemSentence = stemSentence.strip()\n",
        "    return stemSentence\n",
        "\n",
        "# Applying these functions to our DataFrame\n",
        "df['text'] = df['text'].str.lower()\n",
        "df['text'] = df['text'].apply(clean_Html)\n",
        "df['text'] = df['text'].apply(clean_Punc)\n",
        "df['text'] = df['text'].apply(keep_Alpha)\n",
        "df['text'] = df['text'].apply(stemming)\n",
        "\n",
        "df.head()"
      ]
    },
    {
      "cell_type": "code",
      "execution_count": 6,
      "metadata": {
        "id": "wVCYDJ0ul1lt"
      },
      "outputs": [],
      "source": [
        "# Performing Tokenization\n",
        "max_num_words = 10000 # Max number of the most frequents words to be used\n",
        "max_len = 1000 # Max number of words in each review\n",
        "embedding_dim = 100\n",
        "\n",
        "tokenizer = Tokenizer(num_words=max_num_words, filters='!\"#$%&()*+,-./:;<=>?@[\\]^_`{|}~', lower=True)\n",
        "tokenizer.fit_on_texts(df['text'].values)"
      ]
    },
    {
      "cell_type": "code",
      "execution_count": 13,
      "metadata": {
        "id": "4jzgYA0ul2b8"
      },
      "outputs": [],
      "source": [
        "# Padding reviews to make them have equal length\n",
        "x = tokenizer.texts_to_sequences(df['text'].values)\n",
        "x = pad_sequences(x, maxlen=max_len)"
      ]
    },
    {
      "cell_type": "code",
      "execution_count": 14,
      "metadata": {
        "id": "7uQpWPBQl2us",
        "colab": {
          "base_uri": "https://localhost:8080/"
        },
        "outputId": "e51809b5-55b7-4e4d-8701-2280e8616aa9"
      },
      "outputs": [
        {
          "output_type": "stream",
          "name": "stdout",
          "text": [
            "Shape of label tensor: (250000, 5)\n"
          ]
        }
      ],
      "source": [
        "# Performing OneHot Encoding of Stars\n",
        "y = pd.get_dummies(data=df[['stars']], columns=['stars']).values\n",
        "print('Shape of label tensor:', y.shape)"
      ]
    },
    {
      "cell_type": "code",
      "execution_count": 15,
      "metadata": {
        "id": "6pTNv4Ocl28N",
        "colab": {
          "base_uri": "https://localhost:8080/"
        },
        "outputId": "7c7c2d4c-4168-4fa5-d8aa-6deffb68ba30"
      },
      "outputs": [
        {
          "output_type": "stream",
          "name": "stdout",
          "text": [
            "(175000, 1000) (175000, 5)\n",
            "(75000, 1000) (75000, 5)\n"
          ]
        }
      ],
      "source": [
        "# Splitting dataset into Train and Test datasets in 70:30\n",
        "x_train, x_test, y_train, y_test = train_test_split(x,y, test_size = 0.30)\n",
        "print(x_train.shape,y_train.shape)\n",
        "print(x_test.shape,y_test.shape)"
      ]
    },
    {
      "cell_type": "code",
      "execution_count": 17,
      "metadata": {
        "colab": {
          "base_uri": "https://localhost:8080/"
        },
        "id": "AgFFApshmEzN",
        "outputId": "58b0d40e-16dd-4d1b-de5f-922a0cb8ea4e"
      },
      "outputs": [
        {
          "output_type": "stream",
          "name": "stdout",
          "text": [
            "INFO:tensorflow:Deallocate tpu buffers before initializing tpu system.\n"
          ]
        },
        {
          "output_type": "stream",
          "name": "stderr",
          "text": [
            "INFO:tensorflow:Deallocate tpu buffers before initializing tpu system.\n"
          ]
        },
        {
          "output_type": "stream",
          "name": "stdout",
          "text": [
            "INFO:tensorflow:Initializing the TPU system: grpc://10.104.189.242:8470\n"
          ]
        },
        {
          "output_type": "stream",
          "name": "stderr",
          "text": [
            "INFO:tensorflow:Initializing the TPU system: grpc://10.104.189.242:8470\n"
          ]
        },
        {
          "output_type": "stream",
          "name": "stdout",
          "text": [
            "INFO:tensorflow:Finished initializing TPU system.\n"
          ]
        },
        {
          "output_type": "stream",
          "name": "stderr",
          "text": [
            "INFO:tensorflow:Finished initializing TPU system.\n",
            "WARNING:absl:`tf.distribute.experimental.TPUStrategy` is deprecated, please use  the non experimental symbol `tf.distribute.TPUStrategy` instead.\n"
          ]
        },
        {
          "output_type": "stream",
          "name": "stdout",
          "text": [
            "INFO:tensorflow:Found TPU system:\n"
          ]
        },
        {
          "output_type": "stream",
          "name": "stderr",
          "text": [
            "INFO:tensorflow:Found TPU system:\n"
          ]
        },
        {
          "output_type": "stream",
          "name": "stdout",
          "text": [
            "INFO:tensorflow:*** Num TPU Cores: 8\n"
          ]
        },
        {
          "output_type": "stream",
          "name": "stderr",
          "text": [
            "INFO:tensorflow:*** Num TPU Cores: 8\n"
          ]
        },
        {
          "output_type": "stream",
          "name": "stdout",
          "text": [
            "INFO:tensorflow:*** Num TPU Workers: 1\n"
          ]
        },
        {
          "output_type": "stream",
          "name": "stderr",
          "text": [
            "INFO:tensorflow:*** Num TPU Workers: 1\n"
          ]
        },
        {
          "output_type": "stream",
          "name": "stdout",
          "text": [
            "INFO:tensorflow:*** Num TPU Cores Per Worker: 8\n"
          ]
        },
        {
          "output_type": "stream",
          "name": "stderr",
          "text": [
            "INFO:tensorflow:*** Num TPU Cores Per Worker: 8\n"
          ]
        },
        {
          "output_type": "stream",
          "name": "stdout",
          "text": [
            "INFO:tensorflow:*** Available Device: _DeviceAttributes(/job:localhost/replica:0/task:0/device:CPU:0, CPU, 0, 0)\n"
          ]
        },
        {
          "output_type": "stream",
          "name": "stderr",
          "text": [
            "INFO:tensorflow:*** Available Device: _DeviceAttributes(/job:localhost/replica:0/task:0/device:CPU:0, CPU, 0, 0)\n"
          ]
        },
        {
          "output_type": "stream",
          "name": "stdout",
          "text": [
            "INFO:tensorflow:*** Available Device: _DeviceAttributes(/job:worker/replica:0/task:0/device:CPU:0, CPU, 0, 0)\n"
          ]
        },
        {
          "output_type": "stream",
          "name": "stderr",
          "text": [
            "INFO:tensorflow:*** Available Device: _DeviceAttributes(/job:worker/replica:0/task:0/device:CPU:0, CPU, 0, 0)\n"
          ]
        },
        {
          "output_type": "stream",
          "name": "stdout",
          "text": [
            "INFO:tensorflow:*** Available Device: _DeviceAttributes(/job:worker/replica:0/task:0/device:TPU:0, TPU, 0, 0)\n"
          ]
        },
        {
          "output_type": "stream",
          "name": "stderr",
          "text": [
            "INFO:tensorflow:*** Available Device: _DeviceAttributes(/job:worker/replica:0/task:0/device:TPU:0, TPU, 0, 0)\n"
          ]
        },
        {
          "output_type": "stream",
          "name": "stdout",
          "text": [
            "INFO:tensorflow:*** Available Device: _DeviceAttributes(/job:worker/replica:0/task:0/device:TPU:1, TPU, 0, 0)\n"
          ]
        },
        {
          "output_type": "stream",
          "name": "stderr",
          "text": [
            "INFO:tensorflow:*** Available Device: _DeviceAttributes(/job:worker/replica:0/task:0/device:TPU:1, TPU, 0, 0)\n"
          ]
        },
        {
          "output_type": "stream",
          "name": "stdout",
          "text": [
            "INFO:tensorflow:*** Available Device: _DeviceAttributes(/job:worker/replica:0/task:0/device:TPU:2, TPU, 0, 0)\n"
          ]
        },
        {
          "output_type": "stream",
          "name": "stderr",
          "text": [
            "INFO:tensorflow:*** Available Device: _DeviceAttributes(/job:worker/replica:0/task:0/device:TPU:2, TPU, 0, 0)\n"
          ]
        },
        {
          "output_type": "stream",
          "name": "stdout",
          "text": [
            "INFO:tensorflow:*** Available Device: _DeviceAttributes(/job:worker/replica:0/task:0/device:TPU:3, TPU, 0, 0)\n"
          ]
        },
        {
          "output_type": "stream",
          "name": "stderr",
          "text": [
            "INFO:tensorflow:*** Available Device: _DeviceAttributes(/job:worker/replica:0/task:0/device:TPU:3, TPU, 0, 0)\n"
          ]
        },
        {
          "output_type": "stream",
          "name": "stdout",
          "text": [
            "INFO:tensorflow:*** Available Device: _DeviceAttributes(/job:worker/replica:0/task:0/device:TPU:4, TPU, 0, 0)\n"
          ]
        },
        {
          "output_type": "stream",
          "name": "stderr",
          "text": [
            "INFO:tensorflow:*** Available Device: _DeviceAttributes(/job:worker/replica:0/task:0/device:TPU:4, TPU, 0, 0)\n"
          ]
        },
        {
          "output_type": "stream",
          "name": "stdout",
          "text": [
            "INFO:tensorflow:*** Available Device: _DeviceAttributes(/job:worker/replica:0/task:0/device:TPU:5, TPU, 0, 0)\n"
          ]
        },
        {
          "output_type": "stream",
          "name": "stderr",
          "text": [
            "INFO:tensorflow:*** Available Device: _DeviceAttributes(/job:worker/replica:0/task:0/device:TPU:5, TPU, 0, 0)\n"
          ]
        },
        {
          "output_type": "stream",
          "name": "stdout",
          "text": [
            "INFO:tensorflow:*** Available Device: _DeviceAttributes(/job:worker/replica:0/task:0/device:TPU:6, TPU, 0, 0)\n"
          ]
        },
        {
          "output_type": "stream",
          "name": "stderr",
          "text": [
            "INFO:tensorflow:*** Available Device: _DeviceAttributes(/job:worker/replica:0/task:0/device:TPU:6, TPU, 0, 0)\n"
          ]
        },
        {
          "output_type": "stream",
          "name": "stdout",
          "text": [
            "INFO:tensorflow:*** Available Device: _DeviceAttributes(/job:worker/replica:0/task:0/device:TPU:7, TPU, 0, 0)\n"
          ]
        },
        {
          "output_type": "stream",
          "name": "stderr",
          "text": [
            "INFO:tensorflow:*** Available Device: _DeviceAttributes(/job:worker/replica:0/task:0/device:TPU:7, TPU, 0, 0)\n"
          ]
        },
        {
          "output_type": "stream",
          "name": "stdout",
          "text": [
            "INFO:tensorflow:*** Available Device: _DeviceAttributes(/job:worker/replica:0/task:0/device:TPU_SYSTEM:0, TPU_SYSTEM, 0, 0)\n"
          ]
        },
        {
          "output_type": "stream",
          "name": "stderr",
          "text": [
            "INFO:tensorflow:*** Available Device: _DeviceAttributes(/job:worker/replica:0/task:0/device:TPU_SYSTEM:0, TPU_SYSTEM, 0, 0)\n"
          ]
        },
        {
          "output_type": "stream",
          "name": "stdout",
          "text": [
            "INFO:tensorflow:*** Available Device: _DeviceAttributes(/job:worker/replica:0/task:0/device:XLA_CPU:0, XLA_CPU, 0, 0)\n"
          ]
        },
        {
          "output_type": "stream",
          "name": "stderr",
          "text": [
            "INFO:tensorflow:*** Available Device: _DeviceAttributes(/job:worker/replica:0/task:0/device:XLA_CPU:0, XLA_CPU, 0, 0)\n"
          ]
        }
      ],
      "source": [
        "# configuring Google Colabs's TPU for model training\n",
        "tpu = tf.distribute.cluster_resolver.TPUClusterResolver()\n",
        "tf.config.experimental_connect_to_cluster(tpu)\n",
        "tf.tpu.experimental.initialize_tpu_system(tpu)\n",
        "tpu_strategy = tf.distribute.experimental.TPUStrategy(tpu)"
      ]
    },
    {
      "cell_type": "code",
      "source": [
        "# Enabling Google Colabs's TPU\n",
        "with tpu_strategy.scope():\n",
        "  # Building a GRU Model\n",
        "  model=Sequential()\n",
        "  model.add(Embedding(max_num_words, embedding_dim, input_length=max_len, trainable=False))\n",
        "  model.add(Bidirectional(GRU(32)))\n",
        "  model.add(Dense(16, activation=\"relu\"))\n",
        "  model.add(Dense(5, activation=\"softmax\"))\n",
        "  model.compile(optimizer=\"Adam\", loss='categorical_crossentropy', metrics=['accuracy'])\n",
        " \n",
        "  epochs = 50\n",
        "  batch_size = 64\n",
        "  # Training a GRU model on Colab's TPU\n",
        "  GRU_Model = model.fit(x_train, y_train, epochs=epochs, batch_size=batch_size,validation_split=0.1,callbacks=[EarlyStopping(monitor='val_loss', patience=3, min_delta=0.0001)])"
      ],
      "metadata": {
        "colab": {
          "base_uri": "https://localhost:8080/"
        },
        "id": "2Dm1MR0jOiMY",
        "outputId": "30d6264e-6770-4f82-d5a5-35b5e9e40d7f"
      },
      "execution_count": 23,
      "outputs": [
        {
          "output_type": "stream",
          "name": "stdout",
          "text": [
            "Epoch 1/50\n",
            "2461/2461 [==============================] - 256s 101ms/step - loss: 1.4394 - accuracy: 0.3462 - val_loss: 1.3162 - val_accuracy: 0.4232\n",
            "Epoch 2/50\n",
            "2461/2461 [==============================] - 244s 99ms/step - loss: 1.2559 - accuracy: 0.4553 - val_loss: 1.1961 - val_accuracy: 0.4769\n",
            "Epoch 3/50\n",
            "2461/2461 [==============================] - 244s 99ms/step - loss: 1.1621 - accuracy: 0.4949 - val_loss: 1.1420 - val_accuracy: 0.5013\n",
            "Epoch 4/50\n",
            "2461/2461 [==============================] - 243s 99ms/step - loss: 1.1049 - accuracy: 0.5183 - val_loss: 1.0857 - val_accuracy: 0.5246\n",
            "Epoch 5/50\n",
            "2461/2461 [==============================] - 243s 99ms/step - loss: 1.0687 - accuracy: 0.5344 - val_loss: 1.0630 - val_accuracy: 0.5386\n",
            "Epoch 6/50\n",
            "2461/2461 [==============================] - 244s 99ms/step - loss: 1.0424 - accuracy: 0.5449 - val_loss: 1.0388 - val_accuracy: 0.5431\n",
            "Epoch 7/50\n",
            "2461/2461 [==============================] - 244s 99ms/step - loss: 1.0212 - accuracy: 0.5532 - val_loss: 1.0195 - val_accuracy: 0.5525\n",
            "Epoch 8/50\n",
            "2461/2461 [==============================] - 244s 99ms/step - loss: 1.0039 - accuracy: 0.5603 - val_loss: 1.0014 - val_accuracy: 0.5631\n",
            "Epoch 9/50\n",
            "2461/2461 [==============================] - 244s 99ms/step - loss: 0.9926 - accuracy: 0.5651 - val_loss: 0.9988 - val_accuracy: 0.5646\n",
            "Epoch 10/50\n",
            "2461/2461 [==============================] - 244s 99ms/step - loss: 0.9806 - accuracy: 0.5710 - val_loss: 0.9876 - val_accuracy: 0.5669\n",
            "Epoch 11/50\n",
            "2461/2461 [==============================] - 244s 99ms/step - loss: 0.9709 - accuracy: 0.5743 - val_loss: 0.9820 - val_accuracy: 0.5677\n",
            "Epoch 12/50\n",
            "2461/2461 [==============================] - 245s 99ms/step - loss: 0.9630 - accuracy: 0.5766 - val_loss: 0.9789 - val_accuracy: 0.5699\n",
            "Epoch 13/50\n",
            "2461/2461 [==============================] - 244s 99ms/step - loss: 0.9531 - accuracy: 0.5809 - val_loss: 0.9687 - val_accuracy: 0.5736\n",
            "Epoch 14/50\n",
            "2461/2461 [==============================] - 244s 99ms/step - loss: 0.9477 - accuracy: 0.5842 - val_loss: 0.9654 - val_accuracy: 0.5781\n",
            "Epoch 15/50\n",
            "2461/2461 [==============================] - 244s 99ms/step - loss: 0.9413 - accuracy: 0.5856 - val_loss: 0.9556 - val_accuracy: 0.5827\n",
            "Epoch 16/50\n",
            "2461/2461 [==============================] - 244s 99ms/step - loss: 0.9366 - accuracy: 0.5895 - val_loss: 0.9528 - val_accuracy: 0.5811\n",
            "Epoch 17/50\n",
            "2461/2461 [==============================] - 244s 99ms/step - loss: 0.9305 - accuracy: 0.5913 - val_loss: 0.9778 - val_accuracy: 0.5713\n",
            "Epoch 18/50\n",
            "2461/2461 [==============================] - 244s 99ms/step - loss: 0.9265 - accuracy: 0.5934 - val_loss: 0.9451 - val_accuracy: 0.5825\n",
            "Epoch 19/50\n",
            "2461/2461 [==============================] - 244s 99ms/step - loss: 0.9219 - accuracy: 0.5948 - val_loss: 0.9547 - val_accuracy: 0.5786\n",
            "Epoch 20/50\n",
            "2461/2461 [==============================] - 245s 99ms/step - loss: 0.9182 - accuracy: 0.5969 - val_loss: 0.9384 - val_accuracy: 0.5878\n",
            "Epoch 21/50\n",
            "2461/2461 [==============================] - 245s 100ms/step - loss: 0.9152 - accuracy: 0.5979 - val_loss: 0.9470 - val_accuracy: 0.5850\n",
            "Epoch 22/50\n",
            "2461/2461 [==============================] - 245s 100ms/step - loss: 0.9117 - accuracy: 0.5999 - val_loss: 0.9365 - val_accuracy: 0.5894\n",
            "Epoch 23/50\n",
            "2461/2461 [==============================] - 244s 99ms/step - loss: 0.9087 - accuracy: 0.6022 - val_loss: 0.9350 - val_accuracy: 0.5887\n",
            "Epoch 24/50\n",
            "2461/2461 [==============================] - 245s 100ms/step - loss: 0.9045 - accuracy: 0.6030 - val_loss: 0.9313 - val_accuracy: 0.5905\n",
            "Epoch 25/50\n",
            "2461/2461 [==============================] - 246s 100ms/step - loss: 0.9026 - accuracy: 0.6036 - val_loss: 0.9301 - val_accuracy: 0.5920\n",
            "Epoch 26/50\n",
            "2461/2461 [==============================] - 245s 100ms/step - loss: 0.8987 - accuracy: 0.6059 - val_loss: 0.9284 - val_accuracy: 0.5921\n",
            "Epoch 27/50\n",
            "2461/2461 [==============================] - 246s 100ms/step - loss: 0.8968 - accuracy: 0.6071 - val_loss: 0.9377 - val_accuracy: 0.5906\n",
            "Epoch 28/50\n",
            "2461/2461 [==============================] - 249s 101ms/step - loss: 0.8930 - accuracy: 0.6085 - val_loss: 0.9300 - val_accuracy: 0.5907\n",
            "Epoch 29/50\n",
            "2461/2461 [==============================] - 247s 101ms/step - loss: 0.8915 - accuracy: 0.6096 - val_loss: 0.9234 - val_accuracy: 0.5961\n",
            "Epoch 30/50\n",
            "2461/2461 [==============================] - 247s 101ms/step - loss: 0.8893 - accuracy: 0.6099 - val_loss: 0.9250 - val_accuracy: 0.5912\n",
            "Epoch 31/50\n",
            "2461/2461 [==============================] - 247s 101ms/step - loss: 0.8861 - accuracy: 0.6115 - val_loss: 0.9198 - val_accuracy: 0.5970\n",
            "Epoch 32/50\n",
            "2461/2461 [==============================] - 248s 101ms/step - loss: 0.8847 - accuracy: 0.6126 - val_loss: 0.9202 - val_accuracy: 0.5922\n",
            "Epoch 33/50\n",
            "2461/2461 [==============================] - 249s 101ms/step - loss: 0.8828 - accuracy: 0.6122 - val_loss: 0.9172 - val_accuracy: 0.5980\n",
            "Epoch 34/50\n",
            "2461/2461 [==============================] - 247s 100ms/step - loss: 0.8808 - accuracy: 0.6132 - val_loss: 0.9163 - val_accuracy: 0.5970\n",
            "Epoch 35/50\n",
            "2461/2461 [==============================] - 247s 100ms/step - loss: 0.8787 - accuracy: 0.6144 - val_loss: 0.9165 - val_accuracy: 0.5983\n",
            "Epoch 36/50\n",
            "2461/2461 [==============================] - 247s 100ms/step - loss: 0.8767 - accuracy: 0.6156 - val_loss: 0.9129 - val_accuracy: 0.5970\n",
            "Epoch 37/50\n",
            "2461/2461 [==============================] - 247s 100ms/step - loss: 0.8752 - accuracy: 0.6158 - val_loss: 0.9243 - val_accuracy: 0.5962\n",
            "Epoch 38/50\n",
            "2461/2461 [==============================] - 248s 101ms/step - loss: 0.8728 - accuracy: 0.6170 - val_loss: 0.9117 - val_accuracy: 0.6002\n",
            "Epoch 39/50\n",
            "2461/2461 [==============================] - 247s 100ms/step - loss: 0.8716 - accuracy: 0.6177 - val_loss: 0.9157 - val_accuracy: 0.5991\n",
            "Epoch 40/50\n",
            "2461/2461 [==============================] - 247s 100ms/step - loss: 0.8702 - accuracy: 0.6172 - val_loss: 0.9416 - val_accuracy: 0.5903\n",
            "Epoch 41/50\n",
            "2461/2461 [==============================] - 247s 100ms/step - loss: 0.8686 - accuracy: 0.6190 - val_loss: 0.9147 - val_accuracy: 0.6012\n"
          ]
        }
      ]
    },
    {
      "cell_type": "code",
      "execution_count": 24,
      "metadata": {
        "colab": {
          "base_uri": "https://localhost:8080/",
          "height": 295
        },
        "id": "66p6PmkhmFgc",
        "outputId": "2d3e6aac-f349-4eff-b7cb-29848253b8d5"
      },
      "outputs": [
        {
          "output_type": "display_data",
          "data": {
            "image/png": "[encoded data removed]",
            "text/plain": [
              "<Figure size 432x288 with 1 Axes>"
            ]
          },
          "metadata": {
            "needs_background": "light"
          }
        }
      ],
      "source": [
        "plt.plot(GRU_Model.history['loss'])\n",
        "plt.plot(GRU_Model.history['val_loss'])\n",
        "plt.title('Loss vs Val Loss')\n",
        "plt.xlabel('Epoch')\n",
        "plt.legend(['Loss', 'Val Loss'], loc='upper right')\n",
        "plt.show()"
      ]
    },
    {
      "cell_type": "code",
      "source": [
        "plt.plot(GRU_Model.history['accuracy'])\n",
        "plt.plot(GRU_Model.history['val_accuracy'])\n",
        "plt.title('Accuracy vs Val Accuracy')\n",
        "plt.xlabel('Epoch')\n",
        "plt.legend(['Accuracy', 'Val Accuracy'], loc='upper right')\n",
        "plt.show()"
      ],
      "metadata": {
        "colab": {
          "base_uri": "https://localhost:8080/",
          "height": 295
        },
        "id": "3rFUrYgxtRSL",
        "outputId": "e32035a9-c6e0-4c0a-a4fd-0a3a7a9be29a"
      },
      "execution_count": 25,
      "outputs": [
        {
          "output_type": "display_data",
          "data": {
            "image/png": "[encoded data removed]",
            "text/plain": [
              "<Figure size 432x288 with 1 Axes>"
            ]
          },
          "metadata": {
            "needs_background": "light"
          }
        }
      ]
    },
    {
      "cell_type": "code",
      "source": [
        "plt.plot(GRU_Model.history['loss'])\n",
        "plt.plot(GRU_Model.history['accuracy'])\n",
        "plt.title('Loss vs Accuracy')\n",
        "plt.xlabel('Epoch')\n",
        "plt.legend(['Loss', 'Accuracy'], loc='upper right')\n",
        "plt.show()"
      ],
      "metadata": {
        "colab": {
          "base_uri": "https://localhost:8080/",
          "height": 295
        },
        "id": "j20seo8Y0__r",
        "outputId": "d338370d-3efb-4d7e-90a3-2efcc9a84a45"
      },
      "execution_count": 45,
      "outputs": [
        {
          "output_type": "display_data",
          "data": {
            "image/png": "[encoded data removed]",
            "text/plain": [
              "<Figure size 432x288 with 1 Axes>"
            ]
          },
          "metadata": {
            "needs_background": "light"
          }
        }
      ]
    },
    {
      "cell_type": "code",
      "source": [
        "plt.plot(GRU_Model.history['val_loss'])\n",
        "plt.plot(GRU_Model.history['val_accuracy'])\n",
        "plt.title('Val Loss vs Val Accuracy')\n",
        "plt.xlabel('Epoch')\n",
        "plt.legend(['Val Loss', 'Val Accuracy'], loc='upper right')\n",
        "plt.show()"
      ],
      "metadata": {
        "colab": {
          "base_uri": "https://localhost:8080/",
          "height": 295
        },
        "id": "atVA9aaJ1Acb",
        "outputId": "e1dcf917-ab38-4107-9d26-1bc8180479e0"
      },
      "execution_count": 46,
      "outputs": [
        {
          "output_type": "display_data",
          "data": {
            "image/png": "[encoded data removed]",
            "text/plain": [
              "<Figure size 432x288 with 1 Axes>"
            ]
          },
          "metadata": {
            "needs_background": "light"
          }
        }
      ]
    },
    {
      "cell_type": "code",
      "execution_count": 26,
      "metadata": {
        "id": "bVxLdhE8mGEc",
        "colab": {
          "base_uri": "https://localhost:8080/"
        },
        "outputId": "c1c4b871-a87c-4b4b-b0ff-1d0fa8bc0e1f"
      },
      "outputs": [
        {
          "output_type": "stream",
          "name": "stdout",
          "text": [
            "2344/2344 [==============================] - 104s 44ms/step - loss: 0.9095 - accuracy: 0.6040\n",
            "For Test Set\n",
            "  Loss: 0.910\n",
            "  Accuracy: 0.604\n"
          ]
        }
      ],
      "source": [
        "# Evaluting model on Test Set\n",
        "test = model.evaluate(x_test,y_test)\n",
        "print('For Test Set\\n  Loss: {:0.3f}\\n  Accuracy: {:0.3f}'.format(test[0], test[1]))"
      ]
    },
    {
      "cell_type": "code",
      "source": [
        "# Saving Trained Model in Google Drive \n",
        "model_path = 'gdrive/My Drive/Colab Notebooks/Multi Class Review Classification/Classification_Review_Stars_60Acc_41Epochs.h5'\n",
        "model.save(model_path)"
      ],
      "metadata": {
        "id": "UzyyZrzr2abU"
      },
      "execution_count": 43,
      "outputs": []
    },
    {
      "cell_type": "code",
      "source": [
        "# Loading and Verifiying the Trained Model\n",
        "loaded_model = tf.keras.models.load_model(model_path)\n",
        "test1 = loaded_model.evaluate(x_test,y_test)\n",
        "print('For Test Set\\n  Loss: {:0.3f}\\n  Accuracy: {:0.3f}'.format(test1[0], test1[1]))"
      ],
      "metadata": {
        "colab": {
          "base_uri": "https://localhost:8080/"
        },
        "id": "KP8jhpuyt9TN",
        "outputId": "6cec5d46-5982-4502-c9a0-b93abe202590"
      },
      "execution_count": 44,
      "outputs": [
        {
          "output_type": "stream",
          "name": "stdout",
          "text": [
            "2344/2344 [==============================] - 163s 69ms/step - loss: 0.9092 - accuracy: 0.6042\n",
            "For Test Set\n",
            "  Loss: 0.909\n",
            "  Accuracy: 0.604\n"
          ]
        }
      ]
    },
    {
      "cell_type": "markdown",
      "source": [
        "Loaded model verified Successfully."
      ],
      "metadata": {
        "id": "unJMZbjB2FVh"
      }
    }
  ],
  "metadata": {
    "accelerator": "TPU",
    "colab": {
      "collapsed_sections": [],
      "name": "Multi-Label Classification with GRU.ipynb",
      "provenance": [],
      "toc_visible": true,
      "authorship_tag": "ABX9TyNVFble5gR6dqwllzm9bVEU",
      "include_colab_link": true
    },
    "kernelspec": {
      "display_name": "Python 3",
      "name": "python3"
    },
    "language_info": {
      "name": "python"
    }
  },
  "nbformat": 4,
  "nbformat_minor": 0
}